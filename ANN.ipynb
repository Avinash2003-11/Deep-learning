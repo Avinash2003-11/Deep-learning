{
 "cells": [
  {
   "cell_type": "code",
   "execution_count": 2,
   "metadata": {},
   "outputs": [],
   "source": [
    "import numpy as np\n",
    "\n",
    "def sigmoind(x):\n",
    "    return 1 / (1 + np.exp(-x))\n",
    "\n",
    "def sigmoid_derivative(x):\n",
    "    return x * (1 - x)\n",
    "\n",
    "x = np.array([[0,0], [0,1], [1,0], [1,1]])\n",
    "y = np.array([[0], [0], [0], [1]])"
   ]
  },
  {
   "cell_type": "code",
   "execution_count": 3,
   "metadata": {},
   "outputs": [],
   "source": [
    "np.random.seed(42)\n",
    "w1 = np.random.rand(2,2)\n",
    "b1=  np.zeros((1,2))\n",
    "w2 = np.random.rand(2,1)\n",
    "b2 = np.zeros((1,1))"
   ]
  },
  {
   "cell_type": "code",
   "execution_count": 6,
   "metadata": {},
   "outputs": [],
   "source": [
    "def forward(x):\n",
    "    global w1, b1, w2, b2\n",
    "    z1 = np.dot(x, w1) + b1\n",
    "    a1 = sigmoind(z1)\n",
    "    z2 = np.dot(a1, w2) + b2\n",
    "    a2 = sigmoind(z2)\n",
    "    return z1, a1, z2, a2"
   ]
  },
  {
   "cell_type": "code",
   "execution_count": 10,
   "metadata": {},
   "outputs": [],
   "source": [
    "def backward(x, y, z1, a1, z2, a2, learning_rate = 0.1):\n",
    "    global w1, b1, w2, b2\n",
    "    error = a2 - y\n",
    "    loss = -np.mean(y * np.log(a2) + (1 - y) * np.log(1 - a2))\n",
    "\n",
    "    dz2 = error * sigmoid_derivative(a2)\n",
    "    dw2 = np.dot(a1.T, dz2)\n",
    "    db2 = np.sum(dz2, axis=0, keepdims=True)\n",
    "\n",
    "    dz1 = np.dot(dz2, w2.T) * sigmoid_derivative(a1)\n",
    "    dw1 = np.dot(x.T, dz1)\n",
    "    db1 = np.sum(dz1, axis=0, keepdims=True)\n",
    "\n",
    "    w1 -= learning_rate * dw1\n",
    "    b1  -= learning_rate * db1\n",
    "    w2  -= learning_rate * dw2\n",
    "    b2 -= learning_rate * db2\n",
    "\n",
    "    return loss"
   ]
  },
  {
   "cell_type": "code",
   "execution_count": 11,
   "metadata": {},
   "outputs": [
    {
     "name": "stdout",
     "output_type": "stream",
     "text": [
      "Epoch : 0, Loss: 0.02781942564664542\n",
      "Epoch : 1000, Loss: 0.02600926809278694\n",
      "Epoch : 2000, Loss: 0.02449000828864121\n",
      "Epoch : 3000, Loss: 0.023192918142089243\n",
      "Epoch : 4000, Loss: 0.022069787729805092\n",
      "Epoch : 5000, Loss: 0.021085722990414012\n",
      "Epoch : 6000, Loss: 0.020214795162280086\n",
      "Epoch : 7000, Loss: 0.019437301753855503\n",
      "Epoch : 8000, Loss: 0.0187379805063278\n",
      "Epoch : 9000, Loss: 0.018104809135802282\n"
     ]
    }
   ],
   "source": [
    "epochs = 10000\n",
    "for epoch in range(epochs):\n",
    "    z1, a1, z2, a2 = forward(x)\n",
    "    loss = backward(x, y, z1, a1, z2, a2, learning_rate=0.1)\n",
    "    if epoch % 1000 == 0:\n",
    "        print(f\"Epoch : {epoch}, Loss: {loss}\")"
   ]
  },
  {
   "cell_type": "code",
   "execution_count": 12,
   "metadata": {},
   "outputs": [
    {
     "name": "stdout",
     "output_type": "stream",
     "text": [
      "\n",
      "Predictions\n",
      "[[0]\n",
      " [0]\n",
      " [0]\n",
      " [1]]\n"
     ]
    }
   ],
   "source": [
    "z1, a1, z2, a2 = forward(x)\n",
    "predictions = (a2 > 0.5).astype(int)\n",
    "print('\\nPredictions')\n",
    "print(predictions)"
   ]
  },
  {
   "cell_type": "code",
   "execution_count": null,
   "metadata": {},
   "outputs": [],
   "source": []
  }
 ],
 "metadata": {
  "kernelspec": {
   "display_name": "Python 3",
   "language": "python",
   "name": "python3"
  },
  "language_info": {
   "codemirror_mode": {
    "name": "ipython",
    "version": 3
   },
   "file_extension": ".py",
   "mimetype": "text/x-python",
   "name": "python",
   "nbconvert_exporter": "python",
   "pygments_lexer": "ipython3",
   "version": "3.12.2"
  }
 },
 "nbformat": 4,
 "nbformat_minor": 2
}

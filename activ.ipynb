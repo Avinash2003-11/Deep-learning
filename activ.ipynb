{
 "cells": [
  {
   "cell_type": "markdown",
   "metadata": {},
   "source": [
    "Artificial Neural Networks"
   ]
  },
  {
   "cell_type": "code",
   "execution_count": 1,
   "metadata": {},
   "outputs": [],
   "source": [
    "import numpy as np\n",
    "def sigmoid(x):\n",
    "    return 1 / (1 + np.exp(-x))"
   ]
  },
  {
   "cell_type": "code",
   "execution_count": null,
   "metadata": {},
   "outputs": [],
   "source": [
    "def sigmoid_derivative(x):\n",
    "    return x * (1 - x)"
   ]
  },
  {
   "cell_type": "code",
   "execution_count": 12,
   "metadata": {},
   "outputs": [],
   "source": [
    "X= np.array([[0,0], [0,1], [1,0], [1,1]])\n",
    "y = np.array([[0], [1], [1], [0]])"
   ]
  },
  {
   "cell_type": "code",
   "execution_count": 16,
   "metadata": {},
   "outputs": [],
   "source": [
    "np.random.seed(42)\n",
    "weight_hidden_input = np.random.rand(2,2)\n",
    "weight_hidden_output = np.random.rand(2,1)\n",
    "bias_hidden = np.random.rand(1,2)\n",
    "bias_output = np.random.rand(1,1)"
   ]
  },
  {
   "cell_type": "code",
   "execution_count": 17,
   "metadata": {},
   "outputs": [],
   "source": [
    "learning_rate = 0.5\n",
    "epochs = 1000"
   ]
  },
  {
   "cell_type": "code",
   "execution_count": 22,
   "metadata": {},
   "outputs": [
    {
     "name": "stdout",
     "output_type": "stream",
     "text": [
      "Epoch: 0, Loss: 0.0644\n"
     ]
    }
   ],
   "source": [
    "for epoch in range(epochs):\n",
    "    # Forward Propagation\n",
    "    hidden_layer_input = np.dot(X, weight_hidden_input) + bias_hidden\n",
    "    hidden_layer_output = sigmoid(hidden_layer_input)\n",
    "\n",
    "    output_layer_input = np.dot(hidden_layer_output, weight_hidden_output) + bias_output\n",
    "    predicted_output = sigmoid(output_layer_input)\n",
    "\n",
    "    # Error Calculation\n",
    "\n",
    "    error = y - predicted_output\n",
    "\n",
    "    # Backward Propagation\n",
    "    d_predicted_output = error * sigmoid_derivative(predicted_output)\n",
    "\n",
    "    error_hidden_layer = d_predicted_output.dot(weight_hidden_output.T)\n",
    "    d_hidden_layer = error_hidden_layer * sigmoid_derivative(hidden_layer_output)\n",
    "\n",
    "    # Weight and Bias Updates\n",
    "    weight_hidden_output += hidden_layer_output.T.dot(d_predicted_output) * learning_rate\n",
    "    weight_hidden_input += X.T.dot(d_hidden_layer) * learning_rate\n",
    "    bias_output += np.sum(d_predicted_output, axis=0, keepdims=True) * learning_rate\n",
    "    bias_hidden += np.sum(d_hidden_layer, axis=0, keepdims=True) * learning_rate\n",
    "\n",
    "    # Display Loss\n",
    "    if epoch % 10000 == 0:\n",
    "        loss = np.mean(np.square(error))\n",
    "        print(f'Epoch: {epoch}, Loss: {loss:.4f}')"
   ]
  },
  {
   "cell_type": "code",
   "execution_count": 23,
   "metadata": {},
   "outputs": [
    {
     "name": "stdout",
     "output_type": "stream",
     "text": [
      "Epoch: 0, Loss: 0.2880\n"
     ]
    }
   ],
   "source": [
    "import numpy as np\n",
    "def sigmoid(x):\n",
    "    return 1 / (1 + np.exp(-x))\n",
    "def sigmoid_derivative(x):\n",
    "    return x * (1 - x)\n",
    "X= np.array([[0,0], [0,1], [1,0], [1,1]])\n",
    "y = np.array([[0], [1], [1], [0]])\n",
    "np.random.seed(42)\n",
    "weight_hidden_input = np.random.rand(2,2)\n",
    "weight_hidden_output = np.random.rand(2,1)\n",
    "bias_hidden = np.random.rand(1,2)\n",
    "bias_output = np.random.rand(1,1)\n",
    "learning_rate = 0.5\n",
    "epochs = 1000\n",
    "for epoch in range(epochs):\n",
    "    # Forward Propagation\n",
    "    hidden_layer_input = np.dot(X, weight_hidden_input) + bias_hidden\n",
    "    hidden_layer_output = sigmoid(hidden_layer_input)\n",
    "\n",
    "    output_layer_input = np.dot(hidden_layer_output, weight_hidden_output) + bias_output\n",
    "    predicted_output = sigmoid(output_layer_input)\n",
    "\n",
    "    # Error Calculation\n",
    "\n",
    "    error = y - predicted_output\n",
    "\n",
    "    # Backward Propagation\n",
    "    d_predicted_output = error * sigmoid_derivative(predicted_output)\n",
    "\n",
    "    error_hidden_layer = d_predicted_output.dot(weight_hidden_output.T)\n",
    "    d_hidden_layer = error_hidden_layer * sigmoid_derivative(hidden_layer_output)\n",
    "\n",
    "    # Weight and Bias Updates\n",
    "    weight_hidden_output += hidden_layer_output.T.dot(d_predicted_output) * learning_rate\n",
    "    weight_hidden_input += X.T.dot(d_hidden_layer) * learning_rate\n",
    "    bias_output += np.sum(d_predicted_output, axis=0, keepdims=True) * learning_rate\n",
    "    bias_hidden += np.sum(d_hidden_layer, axis=0, keepdims=True) * learning_rate\n",
    "\n",
    "    # Display Loss\n",
    "    if epoch % 1000 == 0:\n",
    "        loss = np.mean(np.square(error))\n",
    "        print(f'Epoch: {epoch}, Loss: {loss:.4f}')"
   ]
  },
  {
   "cell_type": "code",
   "execution_count": 27,
   "metadata": {},
   "outputs": [
    {
     "name": "stdout",
     "output_type": "stream",
     "text": [
      "Epoch 0, Loss: 0.2880\n",
      "Epoch 1000, Loss: 0.0533\n",
      "Epoch 2000, Loss: 0.0034\n",
      "Epoch 3000, Loss: 0.0016\n",
      "Epoch 4000, Loss: 0.0010\n",
      "Epoch 5000, Loss: 0.0007\n",
      "Epoch 6000, Loss: 0.0006\n",
      "Epoch 7000, Loss: 0.0005\n",
      "Epoch 8000, Loss: 0.0004\n",
      "Epoch 9000, Loss: 0.0003\n"
     ]
    }
   ],
   "source": [
    "import numpy as np\n",
    "\n",
    "# Activation Functions\n",
    "def sigmoid(x):\n",
    "    return 1 / (1 + np.exp(-x))\n",
    "\n",
    "def sigmoid_derivative(x):\n",
    "    return x * (1 - x)\n",
    "\n",
    "# Training Data (XOR problem)\n",
    "X = np.array([[0,0], [0,1], [1,0], [1,1]])\n",
    "y = np.array([[0], [1], [1], [0]])\n",
    "\n",
    "# Initialize Weights and Biases\n",
    "np.random.seed(42)\n",
    "weight_hidden_input = np.random.rand(2,2)\n",
    "weight_hidden_output = np.random.rand(2,1)\n",
    "bias_hidden = np.random.rand(1,2)\n",
    "bias_output = np.random.rand(1,1)\n",
    "\n",
    "# Hyperparameters\n",
    "learning_rate = 0.5\n",
    "epochs = 10000  # Increased for better training\n",
    "\n",
    "# Training Loop\n",
    "for epoch in range(epochs):\n",
    "    # Forward Propagation\n",
    "    hidden_layer_input = np.dot(X, weight_hidden_input) + bias_hidden\n",
    "    hidden_layer_output = sigmoid(hidden_layer_input)\n",
    "\n",
    "    output_layer_input = np.dot(hidden_layer_output, weight_hidden_output) + bias_output\n",
    "    predicted_output = sigmoid(output_layer_input)\n",
    "\n",
    "    # Error Calculation\n",
    "    error = y - predicted_output\n",
    "\n",
    "    # Backward Propagation\n",
    "    d_predicted_output = error * sigmoid_derivative(predicted_output)\n",
    "    error_hidden_layer = d_predicted_output.dot(weight_hidden_output.T)\n",
    "    d_hidden_layer = error_hidden_layer * sigmoid_derivative(hidden_layer_output)\n",
    "\n",
    "    # Update Weights and Biases\n",
    "    weight_hidden_output += hidden_layer_output.T.dot(d_predicted_output) * learning_rate\n",
    "    weight_hidden_input += X.T.dot(d_hidden_layer) * learning_rate\n",
    "    bias_output += np.sum(d_predicted_output, axis=0, keepdims=True) * learning_rate\n",
    "    bias_hidden += np.sum(d_hidden_layer, axis=0, keepdims=True) * learning_rate\n",
    "\n",
    "    # Display Loss Every 1000 Epochs with Proper Formatting\n",
    "    if epoch % 1000 == 0:\n",
    "        from sklearn.metrics import mean_squared_error\n",
    "        loss = mean_squared_error(y, predicted_output)\n",
    "        print(f\"Epoch {epoch}, Loss: {loss:.4f}\")"
   ]
  },
  {
   "cell_type": "code",
   "execution_count": 26,
   "metadata": {},
   "outputs": [
    {
     "name": "stdout",
     "output_type": "stream",
     "text": [
      "predicion:\n",
      "[[0.01920538]\n",
      " [0.98342777]\n",
      " [0.98341196]\n",
      " [0.01716291]]\n"
     ]
    }
   ],
   "source": [
    "print(\"predicion:\")\n",
    "print(predicted_output)"
   ]
  },
  {
   "cell_type": "code",
   "execution_count": null,
   "metadata": {},
   "outputs": [],
   "source": []
  }
 ],
 "metadata": {
  "kernelspec": {
   "display_name": "Python 3",
   "language": "python",
   "name": "python3"
  },
  "language_info": {
   "codemirror_mode": {
    "name": "ipython",
    "version": 3
   },
   "file_extension": ".py",
   "mimetype": "text/x-python",
   "name": "python",
   "nbconvert_exporter": "python",
   "pygments_lexer": "ipython3",
   "version": "3.12.2"
  }
 },
 "nbformat": 4,
 "nbformat_minor": 2
}

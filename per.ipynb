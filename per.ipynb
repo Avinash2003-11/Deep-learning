{
 "cells": [
  {
   "cell_type": "code",
   "execution_count": 1,
   "metadata": {},
   "outputs": [
    {
     "name": "stdout",
     "output_type": "stream",
     "text": [
      "Requirement already satisfied: numpy in c:\\python312\\lib\\site-packages (1.26.4)\n"
     ]
    }
   ],
   "source": [
    "!pip install numpy"
   ]
  },
  {
   "cell_type": "code",
   "execution_count": 2,
   "metadata": {},
   "outputs": [],
   "source": [
    "import numpy as np\n",
    "def step_funcion(x):\n",
    "    return 1 if x>=0 else 0\n"
   ]
  },
  {
   "cell_type": "code",
   "execution_count": 37,
   "metadata": {},
   "outputs": [],
   "source": [
    "class Perceptron:\n",
    "    def __init__(self, input_size, learning_rate = 0.01):\n",
    "        self.weights = np.random.randn(input_size)\n",
    "        self.bias = 0\n",
    "        self.learning_rate = learning_rate\n",
    "    def predict(self, inputs):\n",
    "        weighted_sum = np.dot(inputs, self.weights) + self.bias\n",
    "        return step_funcion(weighted_sum)\n",
    "    def train(self, x, y, epochs = 10):\n",
    "        for epoch in range(epochs):\n",
    "            for i in range(len(x)):\n",
    "                prediction = self.predict(x[i])\n",
    "                error = y[i] - prediction\n",
    "                self.weights += self.learning_rate * error * x[i]\n",
    "                self.bias += self.learning_rate * error\n",
    "                print(f'Epoch {epoch+1}, Sampe{i+1}, Error:{error}')\n"
   ]
  },
  {
   "cell_type": "code",
   "execution_count": 38,
   "metadata": {},
   "outputs": [
    {
     "name": "stdout",
     "output_type": "stream",
     "text": [
      "Epoch 1, Sampe1, Error:-1\n",
      "Epoch 1, Sampe2, Error:0\n",
      "Epoch 1, Sampe3, Error:0\n",
      "Epoch 1, Sampe4, Error:0\n",
      "Epoch 2, Sampe1, Error:0\n",
      "Epoch 2, Sampe2, Error:0\n",
      "Epoch 2, Sampe3, Error:0\n",
      "Epoch 2, Sampe4, Error:0\n",
      "Epoch 3, Sampe1, Error:0\n",
      "Epoch 3, Sampe2, Error:0\n",
      "Epoch 3, Sampe3, Error:0\n",
      "Epoch 3, Sampe4, Error:0\n",
      "Epoch 4, Sampe1, Error:0\n",
      "Epoch 4, Sampe2, Error:0\n",
      "Epoch 4, Sampe3, Error:0\n",
      "Epoch 4, Sampe4, Error:0\n",
      "Epoch 5, Sampe1, Error:0\n",
      "Epoch 5, Sampe2, Error:0\n",
      "Epoch 5, Sampe3, Error:0\n",
      "Epoch 5, Sampe4, Error:0\n",
      "Epoch 6, Sampe1, Error:0\n",
      "Epoch 6, Sampe2, Error:0\n",
      "Epoch 6, Sampe3, Error:0\n",
      "Epoch 6, Sampe4, Error:0\n",
      "Epoch 7, Sampe1, Error:0\n",
      "Epoch 7, Sampe2, Error:0\n",
      "Epoch 7, Sampe3, Error:0\n",
      "Epoch 7, Sampe4, Error:0\n",
      "Epoch 8, Sampe1, Error:0\n",
      "Epoch 8, Sampe2, Error:0\n",
      "Epoch 8, Sampe3, Error:0\n",
      "Epoch 8, Sampe4, Error:0\n",
      "Epoch 9, Sampe1, Error:0\n",
      "Epoch 9, Sampe2, Error:0\n",
      "Epoch 9, Sampe3, Error:0\n",
      "Epoch 9, Sampe4, Error:0\n",
      "Epoch 10, Sampe1, Error:0\n",
      "Epoch 10, Sampe2, Error:0\n",
      "Epoch 10, Sampe3, Error:0\n",
      "Epoch 10, Sampe4, Error:0\n"
     ]
    }
   ],
   "source": [
    "x = np.array([[0,0], [0,1], [1,0], [1,1]])\n",
    "y = np.array([0,1,1,1])\n",
    "\n",
    "model = Perceptron(input_size=2)\n",
    "model.train(x, y, epochs=10)"
   ]
  },
  {
   "cell_type": "code",
   "execution_count": 39,
   "metadata": {},
   "outputs": [
    {
     "name": "stdout",
     "output_type": "stream",
     "text": [
      "predictions\n",
      "input:[0 0] -> Prediction:0\n",
      "input:[0 1] -> Prediction:1\n",
      "input:[1 0] -> Prediction:1\n",
      "input:[1 1] -> Prediction:1\n"
     ]
    }
   ],
   "source": [
    "print('predictions')\n",
    "for inputs in x:\n",
    "    print(f'input:{inputs} -> Prediction:{model.predict(inputs)}')"
   ]
  },
  {
   "cell_type": "code",
   "execution_count": null,
   "metadata": {},
   "outputs": [],
   "source": []
  }
 ],
 "metadata": {
  "kernelspec": {
   "display_name": "Python 3",
   "language": "python",
   "name": "python3"
  },
  "language_info": {
   "codemirror_mode": {
    "name": "ipython",
    "version": 3
   },
   "file_extension": ".py",
   "mimetype": "text/x-python",
   "name": "python",
   "nbconvert_exporter": "python",
   "pygments_lexer": "ipython3",
   "version": "3.12.2"
  }
 },
 "nbformat": 4,
 "nbformat_minor": 2
}

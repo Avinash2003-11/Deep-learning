{
 "cells": [
  {
   "cell_type": "markdown",
   "metadata": {},
   "source": [
    "Loss functions"
   ]
  },
  {
   "cell_type": "code",
   "execution_count": 2,
   "metadata": {},
   "outputs": [],
   "source": [
    "import numpy as np\n",
    "from sklearn.metrics import mean_absolute_error, mean_squared_error\n",
    "y_true_reg = np.array([3.0, -0.5, 2.0, 7.0])\n",
    "y_pred_red = np.array([2.5, 0.0, 2.1, 7.8])"
   ]
  },
  {
   "cell_type": "code",
   "execution_count": 3,
   "metadata": {},
   "outputs": [],
   "source": [
    "y_true_bin = np.array([1,0,1,1])\n",
    "y_pred_bin = np.array([0.9, 0.2, 0.7, 0.8])"
   ]
  },
  {
   "cell_type": "code",
   "execution_count": 4,
   "metadata": {},
   "outputs": [],
   "source": [
    "y_true_multi = np.array([[1,0,0], [0,1,0], [0,0,1]])\n",
    "y_pred_multi = np.array([[0.8, 0.1, 0.1], [0.2, 0.7, 0.1], [0.1, 0.2, 0.7]])"
   ]
  },
  {
   "cell_type": "code",
   "execution_count": 5,
   "metadata": {},
   "outputs": [
    {
     "name": "stdout",
     "output_type": "stream",
     "text": [
      "[[1 0 0]\n",
      " [0 1 0]\n",
      " [0 0 1]]\n"
     ]
    }
   ],
   "source": [
    "print(y_true_multi)"
   ]
  },
  {
   "cell_type": "code",
   "execution_count": 6,
   "metadata": {},
   "outputs": [
    {
     "name": "stdout",
     "output_type": "stream",
     "text": [
      "mean squared error: 0.2874999999999999\n"
     ]
    }
   ],
   "source": [
    "loss = mean_squared_error(y_true_reg, y_pred_red)\n",
    "print(\"mean squared error:\", loss)"
   ]
  },
  {
   "cell_type": "code",
   "execution_count": 7,
   "metadata": {},
   "outputs": [
    {
     "name": "stdout",
     "output_type": "stream",
     "text": [
      "Mean absolute error: 0.475\n"
     ]
    }
   ],
   "source": [
    "MAE=  mean_absolute_error(y_true_reg, y_pred_red)\n",
    "print('Mean absolute error:', MAE)"
   ]
  },
  {
   "cell_type": "code",
   "execution_count": 9,
   "metadata": {},
   "outputs": [
    {
     "name": "stdout",
     "output_type": "stream",
     "text": [
      "binary cross entropy loss: 0.22708064055624455\n"
     ]
    }
   ],
   "source": [
    "def binary(y_true, y_pred):\n",
    "    return -np.mean(y_true * np.log(y_pred) + (1 - y_true) * np.log(1 - y_pred))\n",
    "print(\"binary cross entropy loss:\", binary(y_true_bin, y_pred_bin))\n"
   ]
  },
  {
   "cell_type": "code",
   "execution_count": 10,
   "metadata": {},
   "outputs": [
    {
     "name": "stdout",
     "output_type": "stream",
     "text": [
      "categorical loss: 0.3121644797305582\n"
     ]
    }
   ],
   "source": [
    "def category_cross(y_true, y_pred):\n",
    "    return -np.mean(np.sum(y_true * np.log(y_pred), axis=1))\n",
    "print('categorical loss:', category_cross(y_true_multi, y_pred_multi))"
   ]
  },
  {
   "cell_type": "code",
   "execution_count": 11,
   "metadata": {},
   "outputs": [
    {
     "name": "stdout",
     "output_type": "stream",
     "text": [
      "huber loss: 0.14374999999999996\n"
     ]
    }
   ],
   "source": [
    "def  huber(a, b, delta = 1.0):\n",
    "    error = a - b\n",
    "    return np.mean(np.where(np.abs(error) <= delta, 0.5 * error **2, delta * (np.abs(error) - 0.5 * delta)))\n",
    "print('huber loss:', huber(y_true_reg, y_pred_red))"
   ]
  },
  {
   "cell_type": "code",
   "execution_count": null,
   "metadata": {},
   "outputs": [],
   "source": []
  }
 ],
 "metadata": {
  "kernelspec": {
   "display_name": "Python 3",
   "language": "python",
   "name": "python3"
  },
  "language_info": {
   "codemirror_mode": {
    "name": "ipython",
    "version": 3
   },
   "file_extension": ".py",
   "mimetype": "text/x-python",
   "name": "python",
   "nbconvert_exporter": "python",
   "pygments_lexer": "ipython3",
   "version": "3.12.2"
  }
 },
 "nbformat": 4,
 "nbformat_minor": 2
}
